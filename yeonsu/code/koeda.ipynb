{
 "cells": [
  {
   "cell_type": "code",
   "execution_count": 1,
   "metadata": {
    "ExecuteTime": {
     "end_time": "2023-12-16T15:37:56.123351Z",
     "start_time": "2023-12-16T15:37:55.655649Z"
    }
   },
   "outputs": [],
   "source": [
    "import pandas as pd\n",
    "import json\n",
    "from matplotlib import pyplot as plt\n",
    "\n",
    "from tqdm import tqdm\n",
    "from transformers import AutoTokenizer"
   ]
  },
  {
   "cell_type": "code",
   "execution_count": 2,
   "metadata": {
    "ExecuteTime": {
     "end_time": "2023-12-16T15:37:56.425612Z",
     "start_time": "2023-12-16T15:37:56.381381Z"
    },
    "collapsed": false,
    "jupyter": {
     "outputs_hidden": false
    }
   },
   "outputs": [
    {
     "data": {
      "text/html": [
       "<div>\n",
       "<style scoped>\n",
       "    .dataframe tbody tr th:only-of-type {\n",
       "        vertical-align: middle;\n",
       "    }\n",
       "\n",
       "    .dataframe tbody tr th {\n",
       "        vertical-align: top;\n",
       "    }\n",
       "\n",
       "    .dataframe thead th {\n",
       "        text-align: right;\n",
       "    }\n",
       "</style>\n",
       "<table border=\"1\" class=\"dataframe\">\n",
       "  <thead>\n",
       "    <tr style=\"text-align: right;\">\n",
       "      <th></th>\n",
       "      <th>id</th>\n",
       "      <th>source</th>\n",
       "      <th>sentence_1</th>\n",
       "      <th>sentence_2</th>\n",
       "      <th>label</th>\n",
       "      <th>binary-label</th>\n",
       "    </tr>\n",
       "  </thead>\n",
       "  <tbody>\n",
       "    <tr>\n",
       "      <th>1265</th>\n",
       "      <td>boostcamp-sts-v1-train-1265</td>\n",
       "      <td>petition-sampled</td>\n",
       "      <td>주식 공매도제도 폐지</td>\n",
       "      <td>주식 공매도를 폐지하자</td>\n",
       "      <td>3.6</td>\n",
       "      <td>1.0</td>\n",
       "    </tr>\n",
       "    <tr>\n",
       "      <th>8028</th>\n",
       "      <td>boostcamp-sts-v1-train-8028</td>\n",
       "      <td>nsmc-rtt</td>\n",
       "      <td>오오 기대이상...</td>\n",
       "      <td>열 자 이상 적을 말이 없다...</td>\n",
       "      <td>0.0</td>\n",
       "      <td>0.0</td>\n",
       "    </tr>\n",
       "    <tr>\n",
       "      <th>6167</th>\n",
       "      <td>boostcamp-sts-v1-train-6167</td>\n",
       "      <td>slack-sampled</td>\n",
       "      <td>바닥에 떨어져있는 다육이 잎?을 줍줍 하는데 냥이가 와서 따악 앉더라능ㅋㅋ</td>\n",
       "      <td>허브동산? 다육이 동산? 과수..? 너무 부럽네요~</td>\n",
       "      <td>0.4</td>\n",
       "      <td>0.0</td>\n",
       "    </tr>\n",
       "    <tr>\n",
       "      <th>8262</th>\n",
       "      <td>boostcamp-sts-v1-train-8262</td>\n",
       "      <td>petition-rtt</td>\n",
       "      <td>대학교 등록금 납부시 신청 학점 만큼 등록금 납부</td>\n",
       "      <td>대학 등록금 납부 시 신청학점만큼 등록금 납부</td>\n",
       "      <td>5.0</td>\n",
       "      <td>1.0</td>\n",
       "    </tr>\n",
       "    <tr>\n",
       "      <th>6679</th>\n",
       "      <td>boostcamp-sts-v1-train-6679</td>\n",
       "      <td>nsmc-rtt</td>\n",
       "      <td>댓글 쓰려고 첨으로 로긴해서 리뷰씁니다.</td>\n",
       "      <td>처음으로 로그인해서 댓글을 작성하게 되어서 리뷰를 작성하게 되었습니다.</td>\n",
       "      <td>3.4</td>\n",
       "      <td>1.0</td>\n",
       "    </tr>\n",
       "  </tbody>\n",
       "</table>\n",
       "</div>"
      ],
      "text/plain": [
       "                               id            source  \\\n",
       "1265  boostcamp-sts-v1-train-1265  petition-sampled   \n",
       "8028  boostcamp-sts-v1-train-8028          nsmc-rtt   \n",
       "6167  boostcamp-sts-v1-train-6167     slack-sampled   \n",
       "8262  boostcamp-sts-v1-train-8262      petition-rtt   \n",
       "6679  boostcamp-sts-v1-train-6679          nsmc-rtt   \n",
       "\n",
       "                                     sentence_1  \\\n",
       "1265                                주식 공매도제도 폐지   \n",
       "8028                                 오오 기대이상...   \n",
       "6167  바닥에 떨어져있는 다육이 잎?을 줍줍 하는데 냥이가 와서 따악 앉더라능ㅋㅋ   \n",
       "8262                대학교 등록금 납부시 신청 학점 만큼 등록금 납부   \n",
       "6679                     댓글 쓰려고 첨으로 로긴해서 리뷰씁니다.   \n",
       "\n",
       "                                   sentence_2  label  binary-label  \n",
       "1265                             주식 공매도를 폐지하자    3.6           1.0  \n",
       "8028                       열 자 이상 적을 말이 없다...    0.0           0.0  \n",
       "6167             허브동산? 다육이 동산? 과수..? 너무 부럽네요~    0.4           0.0  \n",
       "8262                대학 등록금 납부 시 신청학점만큼 등록금 납부    5.0           1.0  \n",
       "6679  처음으로 로그인해서 댓글을 작성하게 되어서 리뷰를 작성하게 되었습니다.    3.4           1.0  "
      ]
     },
     "execution_count": 2,
     "metadata": {},
     "output_type": "execute_result"
    }
   ],
   "source": [
    "df = pd.read_csv('../train.csv')\n",
    "df.sample(5)"
   ]
  },
  {
   "cell_type": "code",
   "execution_count": 3,
   "metadata": {
    "collapsed": false,
    "jupyter": {
     "outputs_hidden": false
    }
   },
   "outputs": [
    {
     "name": "stdout",
     "output_type": "stream",
     "text": [
      "아바마마가 방에 들어가신다\n",
      "['방가들어가신다 에아버지', '아버지 가방들어가신다 에']\n"
     ]
    }
   ],
   "source": [
    "from koeda import EDA\n",
    "eda = EDA(morpheme_analyzer=\"Okt\", alpha_sr=0.3, alpha_ri=0.3, alpha_rs=0.3, prob_rd=0.3)\n",
    "text = \"아버지가 방에 들어가신다\"\n",
    "result = eda(text)\n",
    "print(result)\n",
    "# 아버지가 정실에 들어가신다\n",
    "\n",
    "result = eda(text, p=(0.9, 0.9, 0.9, 0.9), repetition=2)\n",
    "print(result)"
   ]
  },
  {
   "cell_type": "code",
   "execution_count": 4,
   "metadata": {},
   "outputs": [],
   "source": [
    "# pandas 데이터를 가지고 그래프를 그리는 함수입니다\n",
    "def draw_graph(df):\n",
    "    source_binary = {source:[0, 0] for source in sorted(df['source'].unique())}\n",
    "    # print(source_binary)\n",
    "    # print(df.sample(10))\n",
    "    # for i, item in df.iterrows():\n",
    "    #     source_binary[item['source']][item['binary-label']] += 1\n",
    "    # source_binary_df = pd.DataFrame(source_binary).transpose()\n",
    "\n",
    "    # source의 분포\n",
    "    df['source'].value_counts().plot(kind='bar', rot=20, figsize=(8, 6))\n",
    "    plt.show()\n",
    "    # # source별 binary label의 분포\n",
    "    # source_binary_df.plot(kind='bar', rot=20, figsize=(8, 6))\n",
    "    plt.show()\n",
    "    # label의 분포\n",
    "    df['label'].plot(kind='hist', rot=20, figsize=(8, 6))\n",
    "    plt.show()\n",
    "    # binary label의 분포\n",
    "    df['binary-label'].value_counts().plot(kind='bar', rot=20, figsize=(8, 6))\n",
    "    plt.show()"
   ]
  },
  {
   "cell_type": "code",
   "execution_count": 5,
   "metadata": {},
   "outputs": [
    {
     "data": {
      "image/png": "[encoded data removed]",
      "text/plain": [
       "<Figure size 800x600 with 1 Axes>"
      ]
     },
     "metadata": {},
     "output_type": "display_data"
    },
    {
     "data": {
      "image/png": "[encoded data removed]",
      "text/plain": [
       "<Figure size 800x600 with 1 Axes>"
      ]
     },
     "metadata": {},
     "output_type": "display_data"
    },
    {
     "data": {
      "image/png": "[encoded data removed]",
      "text/plain": [
       "<Figure size 800x600 with 1 Axes>"
      ]
     },
     "metadata": {},
     "output_type": "display_data"
    }
   ],
   "source": [
    "draw_graph(df)"
   ]
  },
  {
   "cell_type": "code",
   "execution_count": 7,
   "metadata": {},
   "outputs": [
    {
     "data": {
      "application/vnd.jupyter.widget-view+json": {
       "model_id": "79965e43c3a846aeb5e2349bbc0f6ec7",
       "version_major": 2,
       "version_minor": 0
      },
      "text/plain": [
       "tokenizer_config.json:   0%|          | 0.00/375 [00:00<?, ?B/s]"
      ]
     },
     "metadata": {},
     "output_type": "display_data"
    },
    {
     "name": "stderr",
     "output_type": "stream",
     "text": [
      "C:\\Users\\Yeonsu\\anaconda3\\envs\\pytorch\\lib\\site-packages\\huggingface_hub\\file_download.py:147: UserWarning: `huggingface_hub` cache-system uses symlinks by default to efficiently store duplicated files but your machine does not support them in C:\\Users\\Yeonsu\\.cache\\huggingface\\hub. Caching files will still work but in a degraded version that might require more space on your disk. This warning can be disabled by setting the `HF_HUB_DISABLE_SYMLINKS_WARNING` environment variable. For more details, see https://huggingface.co/docs/huggingface_hub/how-to-cache#limitations.\n",
      "To support symlinks on Windows, you either need to activate Developer Mode or to run Python as an administrator. In order to see activate developer mode, see this article: https://docs.microsoft.com/en-us/windows/apps/get-started/enable-your-device-for-development\n",
      "  warnings.warn(message)\n"
     ]
    },
    {
     "data": {
      "application/vnd.jupyter.widget-view+json": {
       "model_id": "96d39020294b41c3af1f7b736cec4eae",
       "version_major": 2,
       "version_minor": 0
      },
      "text/plain": [
       "vocab.txt:   0%|          | 0.00/248k [00:00<?, ?B/s]"
      ]
     },
     "metadata": {},
     "output_type": "display_data"
    },
    {
     "data": {
      "application/vnd.jupyter.widget-view+json": {
       "model_id": "a32d5b22f99d47d0b039fee948d6504e",
       "version_major": 2,
       "version_minor": 0
      },
      "text/plain": [
       "tokenizer.json:   0%|          | 0.00/752k [00:00<?, ?B/s]"
      ]
     },
     "metadata": {},
     "output_type": "display_data"
    },
    {
     "data": {
      "application/vnd.jupyter.widget-view+json": {
       "model_id": "3c67f031f795462e87b60dd0526ecca8",
       "version_major": 2,
       "version_minor": 0
      },
      "text/plain": [
       "special_tokens_map.json:   0%|          | 0.00/173 [00:00<?, ?B/s]"
      ]
     },
     "metadata": {},
     "output_type": "display_data"
    }
   ],
   "source": [
    "eda = EDA(morpheme_analyzer=\"Okt\", alpha_sr=0.3, alpha_ri=0.3, alpha_rs=0.3, prob_rd=0.3)\n",
    "model_name = 'klue/roberta-large'\n",
    "tokenizer = AutoTokenizer.from_pretrained(model_name, max_length=160)\n",
    "\n",
    "def augment_df(df, max_len):\n",
    "    augmented_data = []\n",
    "    while len(augmented_data) < max_len:\n",
    "        for i, row in tqdm(df.iterrows()):\n",
    "            augmented_data.append([row['id'], row['sentence_1'], row['sentence_2'], row['label'], row['source'], row['binary-label']])\n",
    "            augmented_sentence = eda(row['sentence_1'])\n",
    "            try:\n",
    "                tokenizer(augmented_sentence, add_special_tokens=True, padding='max_length', truncation=True)\n",
    "                augmented_data.append([row['id'], augmented_sentence, row['sentence_2'], row['label'], row['source'], row['binary-label']])\n",
    "            except:\n",
    "                continue\n",
    "    augmented_df = pd.DataFrame(augmented_data[:max_len], columns=['id', 'sentence_1', 'sentence_2', 'label', 'source', 'binary-label'])\n",
    "    return augmented_df"
   ]
  },
  {
   "cell_type": "code",
   "execution_count": 8,
   "metadata": {
    "ExecuteTime": {
     "end_time": "2023-12-16T15:40:09.291888Z",
     "start_time": "2023-12-16T15:40:07.281579Z"
    },
    "collapsed": false,
    "jupyter": {
     "outputs_hidden": false
    }
   },
   "outputs": [],
   "source": [
    "def augment_data(df):\n",
    "    # label을 기준으로 데이터를 나눕니다\n",
    "    df_00 = df[df['label'] < 0.5]\n",
    "    df_05 = df[(df['label'] < 1) & (0.5 <= df['label'])]\n",
    "    df_10 = df[(df['label'] < 1.5) & (1.0 <= df['label'])]\n",
    "    df_15 = df[(df['label'] < 2) & (1.5 <= df['label'])]\n",
    "    df_20 = df[(df['label'] < 2.5) & (2 <= df['label'])]\n",
    "    df_25 = df[(df['label'] < 3) & (2.5 <= df['label'])]\n",
    "    df_30 = df[(df['label'] < 3.5) & (3 <= df['label'])]\n",
    "    df_35 = df[(df['label'] < 4) & (3.5 <= df['label'])]\n",
    "    df_40 = df[(df['label'] < 4.5) & (4 <= df['label'])]\n",
    "    df_45 = df[(df['label'] < 5) & (4.5 <= df['label'])]\n",
    "    \n",
    "    # 데이터를 배열에 저장합니다.\n",
    "    df_list = [df_00, df_05, df_10, df_15, df_20, df_25, df_30, df_35, df_40, df_45]\n",
    "    max_len = max([d.shape[0] for d in df_list])\n",
    "    # print(max_len) # 2946\n",
    "    print([d.shape[0] for d in df_list])\n",
    "    \n",
    "    augmented_df = pd.DataFrame()\n",
    "    for idx, d in enumerate(df_list):\n",
    "        if idx == 0:\n",
    "            augmented_df = pd.concat([d])\n",
    "            continue\n",
    "        aug_df = augment_df(d, max_len)\n",
    "        augmented_df = pd.concat([augmented_df, aug_df])\n",
    "\n",
    "    augmented_df.reset_index(drop=True, inplace=True)\n",
    "    return augmented_df"
   ]
  },
  {
   "cell_type": "code",
   "execution_count": 9,
   "metadata": {},
   "outputs": [
    {
     "name": "stdout",
     "output_type": "stream",
     "text": [
      "[2946, 765, 928, 440, 613, 524, 832, 883, 1151, 151]\n"
     ]
    },
    {
     "name": "stderr",
     "output_type": "stream",
     "text": [
      "765it [00:02, 327.02it/s]\n",
      "765it [00:01, 521.50it/s]\n",
      "928it [00:01, 563.34it/s]\n",
      "928it [00:01, 544.22it/s]\n",
      "440it [00:00, 539.08it/s]\n",
      "440it [00:00, 497.44it/s]\n",
      "440it [00:00, 543.19it/s]\n",
      "440it [00:00, 537.78it/s]\n",
      "613it [00:01, 505.47it/s]\n",
      "613it [00:01, 505.72it/s]\n",
      "613it [00:01, 506.00it/s]\n",
      "524it [00:00, 534.68it/s]\n",
      "524it [00:00, 578.79it/s]\n",
      "524it [00:00, 535.07it/s]\n",
      "832it [00:01, 487.49it/s]\n",
      "832it [00:01, 483.09it/s]\n",
      "883it [00:02, 435.16it/s]\n",
      "883it [00:02, 412.96it/s]\n",
      "1151it [00:02, 460.45it/s]\n",
      "1151it [00:02, 468.18it/s]\n",
      "151it [00:00, 548.35it/s]\n",
      "151it [00:00, 555.15it/s]\n",
      "151it [00:00, 550.70it/s]\n",
      "151it [00:00, 557.14it/s]\n",
      "151it [00:00, 554.32it/s]\n",
      "151it [00:00, 547.16it/s]\n",
      "151it [00:00, 549.02it/s]\n",
      "151it [00:00, 549.04it/s]\n",
      "151it [00:00, 438.64it/s]\n",
      "151it [00:00, 550.23it/s]\n"
     ]
    }
   ],
   "source": [
    "augmented_df = augment_data(df)"
   ]
  },
  {
   "cell_type": "code",
   "execution_count": 10,
   "metadata": {},
   "outputs": [],
   "source": [
    "def count_len_df(df):\n",
    "    # label을 기준으로 데이터를 나눕니다\n",
    "    df_00 = df[df['label'] < 0.5]\n",
    "    df_05 = df[(df['label'] < 1) & (0.5 <= df['label'])]\n",
    "    df_10 = df[(df['label'] < 1.5) & (1.0 <= df['label'])]\n",
    "    df_15 = df[(df['label'] < 2) & (1.5 <= df['label'])]\n",
    "    df_20 = df[(df['label'] < 2.5) & (2 <= df['label'])]\n",
    "    df_25 = df[(df['label'] < 3) & (2.5 <= df['label'])]\n",
    "    df_30 = df[(df['label'] < 3.5) & (3 <= df['label'])]\n",
    "    df_35 = df[(df['label'] < 4) & (3.5 <= df['label'])]\n",
    "    df_40 = df[(df['label'] < 4.5) & (4 <= df['label'])]\n",
    "    df_45 = df[(df['label'] < 5) & (4.5 <= df['label'])]\n",
    "\n",
    "    # 데이터를 배열에 저장합니다.\n",
    "    df_list = [df_00, df_05, df_10, df_15, df_20, df_25, df_30, df_35, df_40, df_45]\n",
    "    max_len = max([d.shape[0] for d in df_list])\n",
    "    # print(max_len) # 2946\n",
    "    print([d.shape[0] for d in df_list])"
   ]
  },
  {
   "cell_type": "code",
   "execution_count": 11,
   "metadata": {},
   "outputs": [
    {
     "name": "stdout",
     "output_type": "stream",
     "text": [
      "[2946, 2946, 2946, 2946, 2946, 2946, 2946, 2946, 2946, 2946]\n"
     ]
    }
   ],
   "source": [
    "count_len_df(augmented_df)"
   ]
  },
  {
   "cell_type": "code",
   "execution_count": 12,
   "metadata": {},
   "outputs": [
    {
     "data": {
      "image/png": "[encoded data removed]",
      "text/plain": [
       "<Figure size 800x600 with 1 Axes>"
      ]
     },
     "metadata": {},
     "output_type": "display_data"
    },
    {
     "data": {
      "image/png": "[encoded data removed]",
      "text/plain": [
       "<Figure size 800x600 with 1 Axes>"
      ]
     },
     "metadata": {},
     "output_type": "display_data"
    },
    {
     "data": {
      "image/png": "[encoded data removed]",
      "text/plain": [
       "<Figure size 800x600 with 1 Axes>"
      ]
     },
     "metadata": {},
     "output_type": "display_data"
    }
   ],
   "source": [
    "draw_graph(augmented_df)"
   ]
  },
  {
   "cell_type": "code",
   "execution_count": 13,
   "metadata": {},
   "outputs": [
    {
     "data": {
      "text/html": [
       "<div>\n",
       "<style scoped>\n",
       "    .dataframe tbody tr th:only-of-type {\n",
       "        vertical-align: middle;\n",
       "    }\n",
       "\n",
       "    .dataframe tbody tr th {\n",
       "        vertical-align: top;\n",
       "    }\n",
       "\n",
       "    .dataframe thead th {\n",
       "        text-align: right;\n",
       "    }\n",
       "</style>\n",
       "<table border=\"1\" class=\"dataframe\">\n",
       "  <thead>\n",
       "    <tr style=\"text-align: right;\">\n",
       "      <th></th>\n",
       "      <th>id</th>\n",
       "      <th>source</th>\n",
       "      <th>sentence_1</th>\n",
       "      <th>sentence_2</th>\n",
       "      <th>label</th>\n",
       "      <th>binary-label</th>\n",
       "    </tr>\n",
       "  </thead>\n",
       "  <tbody>\n",
       "    <tr>\n",
       "      <th>23574</th>\n",
       "      <td>boostcamp-sts-v1-train-021</td>\n",
       "      <td>petition-rtt</td>\n",
       "      <td>김기덕 조재현 성폭행 철저히 수사해주세요!</td>\n",
       "      <td>김기덕·조재현 성폭행 의혹 철저히 수사하라!</td>\n",
       "      <td>4.2</td>\n",
       "      <td>1.0</td>\n",
       "    </tr>\n",
       "    <tr>\n",
       "      <th>27494</th>\n",
       "      <td>boostcamp-sts-v1-train-2481</td>\n",
       "      <td>petition-sampled</td>\n",
       "      <td>이명박출국금지청원합니다.</td>\n",
       "      <td>이명박출국금지요청합니다.</td>\n",
       "      <td>4.6</td>\n",
       "      <td>1.0</td>\n",
       "    </tr>\n",
       "    <tr>\n",
       "      <th>24229</th>\n",
       "      <td>boostcamp-sts-v1-train-2716</td>\n",
       "      <td>nsmc-rtt</td>\n",
       "      <td>의상 덕분에 눈도 즐거웠고 시대표적 배경인 남북전쟁에 대해서도 잘 표현해준 것 같아요.</td>\n",
       "      <td>의상 덕분에 눈이 즐거웠고 남북전쟁의 역사적 배경을 잘 표현한 것 같아요.</td>\n",
       "      <td>4.2</td>\n",
       "      <td>1.0</td>\n",
       "    </tr>\n",
       "    <tr>\n",
       "      <th>11398</th>\n",
       "      <td>boostcamp-sts-v1-train-8641</td>\n",
       "      <td>petition-sampled</td>\n",
       "      <td>공매도 세력 처벌해야</td>\n",
       "      <td>공매도 없어져야 합니다</td>\n",
       "      <td>1.8</td>\n",
       "      <td>0.0</td>\n",
       "    </tr>\n",
       "    <tr>\n",
       "      <th>12916</th>\n",
       "      <td>boostcamp-sts-v1-train-8594</td>\n",
       "      <td>nsmc-rtt</td>\n",
       "      <td>나카시마 미카 비주얼 아니였음 ㅋㅋㅋ 진짜 큰일날뻔 ㅠㅠ</td>\n",
       "      <td>나카시마 미카 비쥬얼 별로네 ㅋㅋ 진짜 재앙이겠다 ㅠㅠ</td>\n",
       "      <td>2.2</td>\n",
       "      <td>0.0</td>\n",
       "    </tr>\n",
       "  </tbody>\n",
       "</table>\n",
       "</div>"
      ],
      "text/plain": [
       "                                id            source  \\\n",
       "23574   boostcamp-sts-v1-train-021      petition-rtt   \n",
       "27494  boostcamp-sts-v1-train-2481  petition-sampled   \n",
       "24229  boostcamp-sts-v1-train-2716          nsmc-rtt   \n",
       "11398  boostcamp-sts-v1-train-8641  petition-sampled   \n",
       "12916  boostcamp-sts-v1-train-8594          nsmc-rtt   \n",
       "\n",
       "                                             sentence_1  \\\n",
       "23574                           김기덕 조재현 성폭행 철저히 수사해주세요!   \n",
       "27494                                     이명박출국금지청원합니다.   \n",
       "24229  의상 덕분에 눈도 즐거웠고 시대표적 배경인 남북전쟁에 대해서도 잘 표현해준 것 같아요.   \n",
       "11398                                       공매도 세력 처벌해야   \n",
       "12916                   나카시마 미카 비주얼 아니였음 ㅋㅋㅋ 진짜 큰일날뻔 ㅠㅠ   \n",
       "\n",
       "                                      sentence_2  label  binary-label  \n",
       "23574                   김기덕·조재현 성폭행 의혹 철저히 수사하라!    4.2           1.0  \n",
       "27494                              이명박출국금지요청합니다.    4.6           1.0  \n",
       "24229  의상 덕분에 눈이 즐거웠고 남북전쟁의 역사적 배경을 잘 표현한 것 같아요.    4.2           1.0  \n",
       "11398                               공매도 없어져야 합니다    1.8           0.0  \n",
       "12916             나카시마 미카 비쥬얼 별로네 ㅋㅋ 진짜 재앙이겠다 ㅠㅠ    2.2           0.0  "
      ]
     },
     "execution_count": 13,
     "metadata": {},
     "output_type": "execute_result"
    }
   ],
   "source": [
    "augmented_df.sample(5)"
   ]
  },
  {
   "cell_type": "code",
   "execution_count": 14,
   "metadata": {},
   "outputs": [],
   "source": [
    "augmented_df = augmented_df.sample(frac=1).reset_index(drop=True)"
   ]
  },
  {
   "cell_type": "code",
   "execution_count": 15,
   "metadata": {},
   "outputs": [
    {
     "data": {
      "text/html": [
       "<div>\n",
       "<style scoped>\n",
       "    .dataframe tbody tr th:only-of-type {\n",
       "        vertical-align: middle;\n",
       "    }\n",
       "\n",
       "    .dataframe tbody tr th {\n",
       "        vertical-align: top;\n",
       "    }\n",
       "\n",
       "    .dataframe thead th {\n",
       "        text-align: right;\n",
       "    }\n",
       "</style>\n",
       "<table border=\"1\" class=\"dataframe\">\n",
       "  <thead>\n",
       "    <tr style=\"text-align: right;\">\n",
       "      <th></th>\n",
       "      <th>id</th>\n",
       "      <th>source</th>\n",
       "      <th>sentence_1</th>\n",
       "      <th>sentence_2</th>\n",
       "      <th>label</th>\n",
       "      <th>binary-label</th>\n",
       "    </tr>\n",
       "  </thead>\n",
       "  <tbody>\n",
       "    <tr>\n",
       "      <th>1074</th>\n",
       "      <td>boostcamp-sts-v1-train-1074</td>\n",
       "      <td>slack-rtt</td>\n",
       "      <td>&lt;PERSON&gt; 와~ 촉있는데요~</td>\n",
       "      <td>&lt;PERSON&gt; 와~ 만지셨군요~</td>\n",
       "      <td>0.4</td>\n",
       "      <td>0.0</td>\n",
       "    </tr>\n",
       "    <tr>\n",
       "      <th>4395</th>\n",
       "      <td>boostcamp-sts-v1-train-4395</td>\n",
       "      <td>slack-sampled</td>\n",
       "      <td>사실 제 반팔도 우리 회사 반팔입니다!</td>\n",
       "      <td>4:1 우리 회사위 웃음을 주셨던 ㅎㅎㅎ 우리 회사 로고송도 기대됩니다!!!</td>\n",
       "      <td>0.6</td>\n",
       "      <td>0.0</td>\n",
       "    </tr>\n",
       "    <tr>\n",
       "      <th>7277</th>\n",
       "      <td>boostcamp-sts-v1-train-7277</td>\n",
       "      <td>nsmc-sampled</td>\n",
       "      <td>제가 본 영화 중에서 제일 재밌었어요</td>\n",
       "      <td>내가 본 영화중에서 제일 좋았다.</td>\n",
       "      <td>3.8</td>\n",
       "      <td>1.0</td>\n",
       "    </tr>\n",
       "    <tr>\n",
       "      <th>2988</th>\n",
       "      <td>boostcamp-sts-v1-train-2988</td>\n",
       "      <td>slack-sampled</td>\n",
       "      <td>차주 월요일에 올듯!</td>\n",
       "      <td>사진은 화요일의 아침</td>\n",
       "      <td>0.0</td>\n",
       "      <td>0.0</td>\n",
       "    </tr>\n",
       "    <tr>\n",
       "      <th>2056</th>\n",
       "      <td>boostcamp-sts-v1-train-2056</td>\n",
       "      <td>nsmc-sampled</td>\n",
       "      <td>영화관에서 돈 주고 봐서 낮게 준거야?</td>\n",
       "      <td>이런것도 영화관에서 상영을해?ㅋ;</td>\n",
       "      <td>1.2</td>\n",
       "      <td>0.0</td>\n",
       "    </tr>\n",
       "  </tbody>\n",
       "</table>\n",
       "</div>"
      ],
      "text/plain": [
       "                               id         source             sentence_1  \\\n",
       "1074  boostcamp-sts-v1-train-1074      slack-rtt     <PERSON> 와~ 촉있는데요~   \n",
       "4395  boostcamp-sts-v1-train-4395  slack-sampled  사실 제 반팔도 우리 회사 반팔입니다!   \n",
       "7277  boostcamp-sts-v1-train-7277   nsmc-sampled   제가 본 영화 중에서 제일 재밌었어요   \n",
       "2988  boostcamp-sts-v1-train-2988  slack-sampled            차주 월요일에 올듯!   \n",
       "2056  boostcamp-sts-v1-train-2056   nsmc-sampled  영화관에서 돈 주고 봐서 낮게 준거야?   \n",
       "\n",
       "                                      sentence_2  label  binary-label  \n",
       "1074                          <PERSON> 와~ 만지셨군요~    0.4           0.0  \n",
       "4395  4:1 우리 회사위 웃음을 주셨던 ㅎㅎㅎ 우리 회사 로고송도 기대됩니다!!!    0.6           0.0  \n",
       "7277                          내가 본 영화중에서 제일 좋았다.    3.8           1.0  \n",
       "2988                                 사진은 화요일의 아침    0.0           0.0  \n",
       "2056                          이런것도 영화관에서 상영을해?ㅋ;    1.2           0.0  "
      ]
     },
     "execution_count": 15,
     "metadata": {},
     "output_type": "execute_result"
    }
   ],
   "source": [
    "df.sample(5)"
   ]
  },
  {
   "cell_type": "code",
   "execution_count": 16,
   "metadata": {},
   "outputs": [
    {
     "data": {
      "text/html": [
       "<div>\n",
       "<style scoped>\n",
       "    .dataframe tbody tr th:only-of-type {\n",
       "        vertical-align: middle;\n",
       "    }\n",
       "\n",
       "    .dataframe tbody tr th {\n",
       "        vertical-align: top;\n",
       "    }\n",
       "\n",
       "    .dataframe thead th {\n",
       "        text-align: right;\n",
       "    }\n",
       "</style>\n",
       "<table border=\"1\" class=\"dataframe\">\n",
       "  <thead>\n",
       "    <tr style=\"text-align: right;\">\n",
       "      <th></th>\n",
       "      <th>id</th>\n",
       "      <th>source</th>\n",
       "      <th>sentence_1</th>\n",
       "      <th>sentence_2</th>\n",
       "      <th>label</th>\n",
       "      <th>binary-label</th>\n",
       "    </tr>\n",
       "  </thead>\n",
       "  <tbody>\n",
       "    <tr>\n",
       "      <th>17257</th>\n",
       "      <td>boostcamp-sts-v1-train-2589</td>\n",
       "      <td>nsmc-rtt</td>\n",
       "      <td>영화 극장가에서 개봉 본건 행운이었죠...</td>\n",
       "      <td>이 영화를 극장에서 개봉했을 때 운이 좋았는지...</td>\n",
       "      <td>2.6</td>\n",
       "      <td>1.0</td>\n",
       "    </tr>\n",
       "    <tr>\n",
       "      <th>3974</th>\n",
       "      <td>boostcamp-sts-v1-train-3426</td>\n",
       "      <td>slack-sampled</td>\n",
       "      <td>담에 커피나 맥주 담력 연령 비어 한잔 하면서 이야기 나누어요 ㅎ</td>\n",
       "      <td>담에 또 이야기 많이 나눠요ㅎㅎㅎ</td>\n",
       "      <td>3.0</td>\n",
       "      <td>1.0</td>\n",
       "    </tr>\n",
       "    <tr>\n",
       "      <th>20272</th>\n",
       "      <td>boostcamp-sts-v1-train-849</td>\n",
       "      <td>petition-sampled</td>\n",
       "      <td>소년법폐지!!!!!</td>\n",
       "      <td>소년법 폐지해주세요!!!!!!</td>\n",
       "      <td>4.2</td>\n",
       "      <td>1.0</td>\n",
       "    </tr>\n",
       "    <tr>\n",
       "      <th>25795</th>\n",
       "      <td>boostcamp-sts-v1-train-1584</td>\n",
       "      <td>petition-rtt</td>\n",
       "      <td>외국인 범죄를 국가별, 종교별, 범죄유형별로 통계해 주시고 외국인범죄에 대한 경각심...</td>\n",
       "      <td>국가별, 종교별, 범죄유형별 해외범죄 통계를 유지하고 해외범죄 경각심을 높이기 위해...</td>\n",
       "      <td>3.8</td>\n",
       "      <td>1.0</td>\n",
       "    </tr>\n",
       "    <tr>\n",
       "      <th>28445</th>\n",
       "      <td>boostcamp-sts-v1-train-6090</td>\n",
       "      <td>slack-rtt</td>\n",
       "      <td>싸인 코싸인 비유가 너무 격 찰떡이네 점 요 ㅎㅎ</td>\n",
       "      <td>기호와 코사인 은유는 너무 완벽합니다.</td>\n",
       "      <td>3.2</td>\n",
       "      <td>1.0</td>\n",
       "    </tr>\n",
       "  </tbody>\n",
       "</table>\n",
       "</div>"
      ],
      "text/plain": [
       "                                id            source  \\\n",
       "17257  boostcamp-sts-v1-train-2589          nsmc-rtt   \n",
       "3974   boostcamp-sts-v1-train-3426     slack-sampled   \n",
       "20272   boostcamp-sts-v1-train-849  petition-sampled   \n",
       "25795  boostcamp-sts-v1-train-1584      petition-rtt   \n",
       "28445  boostcamp-sts-v1-train-6090         slack-rtt   \n",
       "\n",
       "                                              sentence_1  \\\n",
       "17257                            영화 극장가에서 개봉 본건 행운이었죠...   \n",
       "3974                담에 커피나 맥주 담력 연령 비어 한잔 하면서 이야기 나누어요 ㅎ   \n",
       "20272                                         소년법폐지!!!!!   \n",
       "25795  외국인 범죄를 국가별, 종교별, 범죄유형별로 통계해 주시고 외국인범죄에 대한 경각심...   \n",
       "28445                        싸인 코싸인 비유가 너무 격 찰떡이네 점 요 ㅎㅎ   \n",
       "\n",
       "                                              sentence_2  label  binary-label  \n",
       "17257                       이 영화를 극장에서 개봉했을 때 운이 좋았는지...    2.6           1.0  \n",
       "3974                                  담에 또 이야기 많이 나눠요ㅎㅎㅎ    3.0           1.0  \n",
       "20272                                   소년법 폐지해주세요!!!!!!    4.2           1.0  \n",
       "25795  국가별, 종교별, 범죄유형별 해외범죄 통계를 유지하고 해외범죄 경각심을 높이기 위해...    3.8           1.0  \n",
       "28445                              기호와 코사인 은유는 너무 완벽합니다.    3.2           1.0  "
      ]
     },
     "execution_count": 16,
     "metadata": {},
     "output_type": "execute_result"
    }
   ],
   "source": [
    "augmented_df.sample(5)"
   ]
  },
  {
   "cell_type": "code",
   "execution_count": 17,
   "metadata": {},
   "outputs": [],
   "source": [
    "augmented_df.to_csv('../augmented_train.csv')"
   ]
  },
  {
   "cell_type": "code",
   "execution_count": null,
   "metadata": {},
   "outputs": [],
   "source": []
  },
  {
   "cell_type": "code",
   "execution_count": null,
   "metadata": {},
   "outputs": [],
   "source": []
  }
 ],
 "metadata": {
  "kernelspec": {
   "display_name": "Python 3 (ipykernel)",
   "language": "python",
   "name": "python3"
  },
  "language_info": {
   "codemirror_mode": {
    "name": "ipython",
    "version": 3
   },
   "file_extension": ".py",
   "mimetype": "text/x-python",
   "name": "python",
   "nbconvert_exporter": "python",
   "pygments_lexer": "ipython3",
   "version": "3.9.18"
  }
 },
 "nbformat": 4,
 "nbformat_minor": 4
}
