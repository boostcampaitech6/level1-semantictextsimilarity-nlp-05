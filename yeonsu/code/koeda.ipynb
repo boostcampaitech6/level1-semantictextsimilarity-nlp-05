{
 "cells": [
  {
   "cell_type": "code",
   "execution_count": 1,
   "metadata": {
    "collapsed": true,
    "ExecuteTime": {
     "start_time": "2023-12-16T15:37:55.655649Z",
     "end_time": "2023-12-16T15:37:56.123351Z"
    }
   },
   "outputs": [],
   "source": [
    "import pandas as pd"
   ]
  },
  {
   "cell_type": "code",
   "execution_count": 2,
   "outputs": [
    {
     "data": {
      "text/plain": "                               id            source  \\\n2100  boostcamp-sts-v1-train-2100      nsmc-sampled   \n3912  boostcamp-sts-v1-train-3912  petition-sampled   \n330    boostcamp-sts-v1-train-330     slack-sampled   \n8836  boostcamp-sts-v1-train-8836  petition-sampled   \n3418  boostcamp-sts-v1-train-3418     slack-sampled   \n\n                                 sentence_1                  sentence_2  \\\n2100                        정말 제대로 된 사극입니다.       제대로 된 악역을 한번 맡았으면 한다.   \n3912               이번 간호사 처우 개선안에 대해 반대합니다.           비행기 테러에 대해 궁금합니다.   \n330   종종 연구와 사업 사이 궁금한 점이 생길때마다 리모션 드리겠습니다~  문제와 관련해서 두 가지 궁금한 점이 있는데요!   \n8836                    의료원 전면플라자 갑질을 고발합니다        서울 아산병원 의료사고를 고발합니다.   \n3418                          자주 얘기나누고 싶습니다                  자주 이야기나누어요   \n\n      label  binary-label  \n2100    0.4           0.0  \n3912    0.0           0.0  \n330     0.6           0.0  \n8836    0.0           0.0  \n3418    3.6           1.0  ",
      "text/html": "<div>\n<style scoped>\n    .dataframe tbody tr th:only-of-type {\n        vertical-align: middle;\n    }\n\n    .dataframe tbody tr th {\n        vertical-align: top;\n    }\n\n    .dataframe thead th {\n        text-align: right;\n    }\n</style>\n<table border=\"1\" class=\"dataframe\">\n  <thead>\n    <tr style=\"text-align: right;\">\n      <th></th>\n      <th>id</th>\n      <th>source</th>\n      <th>sentence_1</th>\n      <th>sentence_2</th>\n      <th>label</th>\n      <th>binary-label</th>\n    </tr>\n  </thead>\n  <tbody>\n    <tr>\n      <th>2100</th>\n      <td>boostcamp-sts-v1-train-2100</td>\n      <td>nsmc-sampled</td>\n      <td>정말 제대로 된 사극입니다.</td>\n      <td>제대로 된 악역을 한번 맡았으면 한다.</td>\n      <td>0.4</td>\n      <td>0.0</td>\n    </tr>\n    <tr>\n      <th>3912</th>\n      <td>boostcamp-sts-v1-train-3912</td>\n      <td>petition-sampled</td>\n      <td>이번 간호사 처우 개선안에 대해 반대합니다.</td>\n      <td>비행기 테러에 대해 궁금합니다.</td>\n      <td>0.0</td>\n      <td>0.0</td>\n    </tr>\n    <tr>\n      <th>330</th>\n      <td>boostcamp-sts-v1-train-330</td>\n      <td>slack-sampled</td>\n      <td>종종 연구와 사업 사이 궁금한 점이 생길때마다 리모션 드리겠습니다~</td>\n      <td>문제와 관련해서 두 가지 궁금한 점이 있는데요!</td>\n      <td>0.6</td>\n      <td>0.0</td>\n    </tr>\n    <tr>\n      <th>8836</th>\n      <td>boostcamp-sts-v1-train-8836</td>\n      <td>petition-sampled</td>\n      <td>의료원 전면플라자 갑질을 고발합니다</td>\n      <td>서울 아산병원 의료사고를 고발합니다.</td>\n      <td>0.0</td>\n      <td>0.0</td>\n    </tr>\n    <tr>\n      <th>3418</th>\n      <td>boostcamp-sts-v1-train-3418</td>\n      <td>slack-sampled</td>\n      <td>자주 얘기나누고 싶습니다</td>\n      <td>자주 이야기나누어요</td>\n      <td>3.6</td>\n      <td>1.0</td>\n    </tr>\n  </tbody>\n</table>\n</div>"
     },
     "execution_count": 2,
     "metadata": {},
     "output_type": "execute_result"
    }
   ],
   "source": [
    "df = pd.read_csv('../train.csv')\n",
    "df.sample(5)"
   ],
   "metadata": {
    "collapsed": false,
    "ExecuteTime": {
     "start_time": "2023-12-16T15:37:56.381381Z",
     "end_time": "2023-12-16T15:37:56.425612Z"
    }
   }
  },
  {
   "cell_type": "code",
   "execution_count": 6,
   "outputs": [
    {
     "ename": "JVMNotFoundException",
     "evalue": "No JVM shared library file (libjli.dylib) found. Try setting up the JAVA_HOME environment variable properly.",
     "output_type": "error",
     "traceback": [
      "\u001B[0;31m---------------------------------------------------------------------------\u001B[0m",
      "\u001B[0;31mJVMNotFoundException\u001B[0m                      Traceback (most recent call last)",
      "Cell \u001B[0;32mIn[6], line 2\u001B[0m\n\u001B[1;32m      1\u001B[0m \u001B[38;5;28;01mfrom\u001B[39;00m \u001B[38;5;21;01mkoeda\u001B[39;00m \u001B[38;5;28;01mimport\u001B[39;00m EDA\n\u001B[0;32m----> 2\u001B[0m eda \u001B[38;5;241m=\u001B[39m \u001B[43mEDA\u001B[49m\u001B[43m(\u001B[49m\u001B[43mmorpheme_analyzer\u001B[49m\u001B[38;5;241;43m=\u001B[39;49m\u001B[38;5;124;43m\"\u001B[39;49m\u001B[38;5;124;43mOkt\u001B[39;49m\u001B[38;5;124;43m\"\u001B[39;49m\u001B[43m,\u001B[49m\u001B[43m \u001B[49m\u001B[43malpha_sr\u001B[49m\u001B[38;5;241;43m=\u001B[39;49m\u001B[38;5;241;43m0.3\u001B[39;49m\u001B[43m,\u001B[49m\u001B[43m \u001B[49m\u001B[43malpha_ri\u001B[49m\u001B[38;5;241;43m=\u001B[39;49m\u001B[38;5;241;43m0.3\u001B[39;49m\u001B[43m,\u001B[49m\u001B[43m \u001B[49m\u001B[43malpha_rs\u001B[49m\u001B[38;5;241;43m=\u001B[39;49m\u001B[38;5;241;43m0.3\u001B[39;49m\u001B[43m,\u001B[49m\u001B[43m \u001B[49m\u001B[43mprob_rd\u001B[49m\u001B[38;5;241;43m=\u001B[39;49m\u001B[38;5;241;43m0.3\u001B[39;49m\u001B[43m)\u001B[49m\n\u001B[1;32m      3\u001B[0m text \u001B[38;5;241m=\u001B[39m \u001B[38;5;124m\"\u001B[39m\u001B[38;5;124m아버지가 방에 들어가신다\u001B[39m\u001B[38;5;124m\"\u001B[39m\n\u001B[1;32m      4\u001B[0m result \u001B[38;5;241m=\u001B[39m eda(text)\n",
      "File \u001B[0;32m/opt/homebrew/Caskroom/miniforge/base/envs/DL-torch/lib/python3.9/site-packages/koeda/eda.py:22\u001B[0m, in \u001B[0;36mEasyDataAugmentation.__init__\u001B[0;34m(self, morpheme_analyzer, alpha_sr, alpha_ri, alpha_rs, prob_rd)\u001B[0m\n\u001B[1;32m     20\u001B[0m     \u001B[38;5;28mself\u001B[39m\u001B[38;5;241m.\u001B[39mmorpheme_analyzer \u001B[38;5;241m=\u001B[39m Okt()\n\u001B[1;32m     21\u001B[0m \u001B[38;5;28;01melif\u001B[39;00m morpheme_analyzer \u001B[38;5;129;01min\u001B[39;00m [\u001B[38;5;124m\"\u001B[39m\u001B[38;5;124mOkt\u001B[39m\u001B[38;5;124m\"\u001B[39m, \u001B[38;5;124m\"\u001B[39m\u001B[38;5;124mKkma\u001B[39m\u001B[38;5;124m\"\u001B[39m, \u001B[38;5;124m\"\u001B[39m\u001B[38;5;124mKomoran\u001B[39m\u001B[38;5;124m\"\u001B[39m, \u001B[38;5;124m\"\u001B[39m\u001B[38;5;124mMecab\u001B[39m\u001B[38;5;124m\"\u001B[39m, \u001B[38;5;124m\"\u001B[39m\u001B[38;5;124mHannanum\u001B[39m\u001B[38;5;124m\"\u001B[39m]:\n\u001B[0;32m---> 22\u001B[0m     \u001B[38;5;28mself\u001B[39m\u001B[38;5;241m.\u001B[39mmorpheme_analyzer \u001B[38;5;241m=\u001B[39m \u001B[38;5;28;43meval\u001B[39;49m\u001B[43m(\u001B[49m\u001B[43mmorpheme_analyzer\u001B[49m\u001B[43m)\u001B[49m\u001B[43m(\u001B[49m\u001B[43m)\u001B[49m\n\u001B[1;32m     23\u001B[0m \u001B[38;5;28;01melif\u001B[39;00m \u001B[38;5;28mhasattr\u001B[39m(morpheme_analyzer, \u001B[38;5;124m\"\u001B[39m\u001B[38;5;124mmorphs\u001B[39m\u001B[38;5;124m\"\u001B[39m):\n\u001B[1;32m     24\u001B[0m     \u001B[38;5;28mself\u001B[39m\u001B[38;5;241m.\u001B[39mmorpheme_analyzer \u001B[38;5;241m=\u001B[39m morpheme_analyzer\n",
      "File \u001B[0;32m/opt/homebrew/Caskroom/miniforge/base/envs/DL-torch/lib/python3.9/site-packages/konlpy/tag/_okt.py:51\u001B[0m, in \u001B[0;36mOkt.__init__\u001B[0;34m(self, jvmpath, max_heap_size)\u001B[0m\n\u001B[1;32m     49\u001B[0m \u001B[38;5;28;01mdef\u001B[39;00m \u001B[38;5;21m__init__\u001B[39m(\u001B[38;5;28mself\u001B[39m, jvmpath\u001B[38;5;241m=\u001B[39m\u001B[38;5;28;01mNone\u001B[39;00m, max_heap_size\u001B[38;5;241m=\u001B[39m\u001B[38;5;241m1024\u001B[39m):\n\u001B[1;32m     50\u001B[0m     \u001B[38;5;28;01mif\u001B[39;00m \u001B[38;5;129;01mnot\u001B[39;00m jpype\u001B[38;5;241m.\u001B[39misJVMStarted():\n\u001B[0;32m---> 51\u001B[0m         \u001B[43mjvm\u001B[49m\u001B[38;5;241;43m.\u001B[39;49m\u001B[43minit_jvm\u001B[49m\u001B[43m(\u001B[49m\u001B[43mjvmpath\u001B[49m\u001B[43m,\u001B[49m\u001B[43m \u001B[49m\u001B[43mmax_heap_size\u001B[49m\u001B[43m)\u001B[49m\n\u001B[1;32m     53\u001B[0m     oktJavaPackage \u001B[38;5;241m=\u001B[39m jpype\u001B[38;5;241m.\u001B[39mJPackage(\u001B[38;5;124m'\u001B[39m\u001B[38;5;124mkr.lucypark.okt\u001B[39m\u001B[38;5;124m'\u001B[39m)\n\u001B[1;32m     54\u001B[0m     OktInterfaceJavaClass \u001B[38;5;241m=\u001B[39m oktJavaPackage\u001B[38;5;241m.\u001B[39mOktInterface\n",
      "File \u001B[0;32m/opt/homebrew/Caskroom/miniforge/base/envs/DL-torch/lib/python3.9/site-packages/konlpy/jvm.py:55\u001B[0m, in \u001B[0;36minit_jvm\u001B[0;34m(jvmpath, max_heap_size)\u001B[0m\n\u001B[1;32m     52\u001B[0m args \u001B[38;5;241m=\u001B[39m [javadir, os\u001B[38;5;241m.\u001B[39msep]\n\u001B[1;32m     53\u001B[0m classpath \u001B[38;5;241m=\u001B[39m [f\u001B[38;5;241m.\u001B[39mformat(\u001B[38;5;241m*\u001B[39margs) \u001B[38;5;28;01mfor\u001B[39;00m f \u001B[38;5;129;01min\u001B[39;00m folder_suffix]\n\u001B[0;32m---> 55\u001B[0m jvmpath \u001B[38;5;241m=\u001B[39m jvmpath \u001B[38;5;129;01mor\u001B[39;00m \u001B[43mjpype\u001B[49m\u001B[38;5;241;43m.\u001B[39;49m\u001B[43mgetDefaultJVMPath\u001B[49m\u001B[43m(\u001B[49m\u001B[43m)\u001B[49m\n\u001B[1;32m     57\u001B[0m \u001B[38;5;66;03m# NOTE: Temporary patch for Issue #76. Erase when possible.\u001B[39;00m\n\u001B[1;32m     58\u001B[0m \u001B[38;5;28;01mif\u001B[39;00m sys\u001B[38;5;241m.\u001B[39mplatform \u001B[38;5;241m==\u001B[39m \u001B[38;5;124m'\u001B[39m\u001B[38;5;124mdarwin\u001B[39m\u001B[38;5;124m'\u001B[39m\\\n\u001B[1;32m     59\u001B[0m         \u001B[38;5;129;01mand\u001B[39;00m jvmpath\u001B[38;5;241m.\u001B[39mfind(\u001B[38;5;124m'\u001B[39m\u001B[38;5;124m1.8.0\u001B[39m\u001B[38;5;124m'\u001B[39m) \u001B[38;5;241m>\u001B[39m \u001B[38;5;241m0\u001B[39m\\\n\u001B[1;32m     60\u001B[0m         \u001B[38;5;129;01mand\u001B[39;00m jvmpath\u001B[38;5;241m.\u001B[39mendswith(\u001B[38;5;124m'\u001B[39m\u001B[38;5;124mlibjvm.dylib\u001B[39m\u001B[38;5;124m'\u001B[39m):\n",
      "File \u001B[0;32m/opt/homebrew/Caskroom/miniforge/base/envs/DL-torch/lib/python3.9/site-packages/jpype/_jvmfinder.py:74\u001B[0m, in \u001B[0;36mgetDefaultJVMPath\u001B[0;34m()\u001B[0m\n\u001B[1;32m     72\u001B[0m \u001B[38;5;28;01melse\u001B[39;00m:\n\u001B[1;32m     73\u001B[0m     finder \u001B[38;5;241m=\u001B[39m LinuxJVMFinder()\n\u001B[0;32m---> 74\u001B[0m \u001B[38;5;28;01mreturn\u001B[39;00m \u001B[43mfinder\u001B[49m\u001B[38;5;241;43m.\u001B[39;49m\u001B[43mget_jvm_path\u001B[49m\u001B[43m(\u001B[49m\u001B[43m)\u001B[49m\n",
      "File \u001B[0;32m/opt/homebrew/Caskroom/miniforge/base/envs/DL-torch/lib/python3.9/site-packages/jpype/_jvmfinder.py:212\u001B[0m, in \u001B[0;36mJVMFinder.get_jvm_path\u001B[0;34m(self)\u001B[0m\n\u001B[1;32m    210\u001B[0m \u001B[38;5;28;01mif\u001B[39;00m jvm_notsupport_ext \u001B[38;5;129;01mis\u001B[39;00m \u001B[38;5;129;01mnot\u001B[39;00m \u001B[38;5;28;01mNone\u001B[39;00m:\n\u001B[1;32m    211\u001B[0m     \u001B[38;5;28;01mraise\u001B[39;00m jvm_notsupport_ext\n\u001B[0;32m--> 212\u001B[0m \u001B[38;5;28;01mraise\u001B[39;00m JVMNotFoundException(\u001B[38;5;124m\"\u001B[39m\u001B[38;5;124mNo JVM shared library file (\u001B[39m\u001B[38;5;132;01m{0}\u001B[39;00m\u001B[38;5;124m) \u001B[39m\u001B[38;5;124m\"\u001B[39m\n\u001B[1;32m    213\u001B[0m                            \u001B[38;5;124m\"\u001B[39m\u001B[38;5;124mfound. Try setting up the JAVA_HOME \u001B[39m\u001B[38;5;124m\"\u001B[39m\n\u001B[1;32m    214\u001B[0m                            \u001B[38;5;124m\"\u001B[39m\u001B[38;5;124menvironment variable properly.\u001B[39m\u001B[38;5;124m\"\u001B[39m\n\u001B[1;32m    215\u001B[0m                            \u001B[38;5;241m.\u001B[39mformat(\u001B[38;5;28mself\u001B[39m\u001B[38;5;241m.\u001B[39m_libfile))\n",
      "\u001B[0;31mJVMNotFoundException\u001B[0m: No JVM shared library file (libjli.dylib) found. Try setting up the JAVA_HOME environment variable properly."
     ]
    }
   ],
   "source": [
    "from koeda import EDA\n",
    "eda = EDA(morpheme_analyzer=\"Okt\", alpha_sr=0.3, alpha_ri=0.3, alpha_rs=0.3, prob_rd=0.3)\n",
    "text = \"아버지가 방에 들어가신다\"\n",
    "result = eda(text)\n",
    "print(result)\n",
    "# 아버지가 정실에 들어가신다\n",
    "\n",
    "result = eda(text, p=(0.9, 0.9, 0.9, 0.9), repetition=2)\n",
    "print(result)"
   ],
   "metadata": {
    "collapsed": false
   }
  },
  {
   "cell_type": "code",
   "execution_count": 5,
   "outputs": [
    {
     "name": "stdout",
     "output_type": "stream",
     "text": [
      "Requirement already satisfied: pip in /opt/homebrew/Caskroom/miniforge/base/envs/DL-torch/lib/python3.9/site-packages (23.3.1)\r\n",
      "Note: you may need to restart the kernel to use updated packages.\n"
     ]
    }
   ],
   "source": [],
   "metadata": {
    "collapsed": false,
    "ExecuteTime": {
     "start_time": "2023-12-16T15:40:07.281579Z",
     "end_time": "2023-12-16T15:40:09.291888Z"
    }
   }
  }
 ],
 "metadata": {
  "kernelspec": {
   "display_name": "Python 3",
   "language": "python",
   "name": "python3"
  },
  "language_info": {
   "codemirror_mode": {
    "name": "ipython",
    "version": 2
   },
   "file_extension": ".py",
   "mimetype": "text/x-python",
   "name": "python",
   "nbconvert_exporter": "python",
   "pygments_lexer": "ipython2",
   "version": "2.7.6"
  }
 },
 "nbformat": 4,
 "nbformat_minor": 0
}
